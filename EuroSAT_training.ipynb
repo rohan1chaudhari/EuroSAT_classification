{
  "nbformat": 4,
  "nbformat_minor": 0,
  "metadata": {
    "colab": {
      "name": "EuroSAT training.ipynb",
      "provenance": [],
      "collapsed_sections": [],
      "authorship_tag": "ABX9TyNqGN1p22KYkazJpUEXZxvf",
      "include_colab_link": true
    },
    "kernelspec": {
      "name": "python3",
      "display_name": "Python 3"
    },
    "accelerator": "TPU"
  },
  "cells": [
    {
      "cell_type": "markdown",
      "metadata": {
        "id": "view-in-github",
        "colab_type": "text"
      },
      "source": [
        "<a href=\"https://colab.research.google.com/github/rohan1chaudhari/EuroSAT_classification/blob/master/EuroSAT_training.ipynb\" target=\"_parent\"><img src=\"https://colab.research.google.com/assets/colab-badge.svg\" alt=\"Open In Colab\"/></a>"
      ]
    },
    {
      "cell_type": "markdown",
      "metadata": {
        "id": "ePSmPT3NCvsI",
        "colab_type": "text"
      },
      "source": [
        "# EuroSAT Image Classification"
      ]
    },
    {
      "cell_type": "markdown",
      "metadata": {
        "id": "nqoj231MC9dz",
        "colab_type": "text"
      },
      "source": [
        "## Mount Google Drive\n",
        "\n",
        "Move the zip file in the drive"
      ]
    },
    {
      "cell_type": "code",
      "metadata": {
        "id": "B-p8qwtlgZzk",
        "colab_type": "code",
        "colab": {
          "base_uri": "https://localhost:8080/",
          "height": 35
        },
        "outputId": "e7f97329-fa75-498c-cf59-ce578267521d"
      },
      "source": [
        "from google.colab import drive\n",
        "\n",
        "drive.mount('/content/gdrive')"
      ],
      "execution_count": 1,
      "outputs": [
        {
          "output_type": "stream",
          "text": [
            "Drive already mounted at /content/gdrive; to attempt to forcibly remount, call drive.mount(\"/content/gdrive\", force_remount=True).\n"
          ],
          "name": "stdout"
        }
      ]
    },
    {
      "cell_type": "code",
      "metadata": {
        "id": "xc-iMW-BgbUp",
        "colab_type": "code",
        "colab": {
          "base_uri": "https://localhost:8080/",
          "height": 35
        },
        "outputId": "d33bd338-6550-4c62-b428-59b6ace6e0c6"
      },
      "source": [
        "!ls 'gdrive/My Drive/datasets/'"
      ],
      "execution_count": 2,
      "outputs": [
        {
          "output_type": "stream",
          "text": [
            "2750  EuroSAT.zip\n"
          ],
          "name": "stdout"
        }
      ]
    },
    {
      "cell_type": "markdown",
      "metadata": {
        "id": "QzXal7paDJWZ",
        "colab_type": "text"
      },
      "source": [
        "Unzip the folder "
      ]
    },
    {
      "cell_type": "code",
      "metadata": {
        "id": "wwoOqBgQhHNm",
        "colab_type": "code",
        "colab": {
          "base_uri": "https://localhost:8080/",
          "height": 71
        },
        "outputId": "b5634a39-3927-4f9e-d9af-ef94387ca7e6"
      },
      "source": [
        "!unzip 'gdrive/My Drive/datasets/EuroSAT.zip'"
      ],
      "execution_count": 3,
      "outputs": [
        {
          "output_type": "stream",
          "text": [
            "Archive:  gdrive/My Drive/datasets/EuroSAT.zip\n",
            "replace 2750/River/River_479.jpg? [y]es, [n]o, [A]ll, [N]one, [r]ename: nA\n",
            "replace 2750/River/River_2178.jpg? [y]es, [n]o, [A]ll, [N]one, [r]ename: N\n"
          ],
          "name": "stdout"
        }
      ]
    },
    {
      "cell_type": "markdown",
      "metadata": {
        "id": "WyKgCplnDTD3",
        "colab_type": "text"
      },
      "source": [
        "## Import packages and set random seeds."
      ]
    },
    {
      "cell_type": "code",
      "metadata": {
        "id": "3gb_vjHmhMHY",
        "colab_type": "code",
        "colab": {
          "base_uri": "https://localhost:8080/",
          "height": 89
        },
        "outputId": "b5214d1b-21aa-47e7-a97d-0aba342e2b1d"
      },
      "source": [
        "import math\n",
        "import cv2\n",
        "import plotly.graph_objects as go\n",
        "import matplotlib.pyplot as plt\n",
        "import seaborn as sns\n",
        "import pandas as pd\n",
        "from sklearn import metrics\n",
        "from tensorflow.keras.callbacks import ModelCheckpoint\n",
        "import tensorflow as tf\n",
        "import numpy as np\n",
        "import random\n",
        "import os\n",
        "from tensorflow.keras import models\n",
        "from tensorflow.keras.applications import EfficientNetB1\n",
        "import tensorflow\n",
        "# Seed value\n",
        "seed_value = 0\n",
        "\n",
        "# 1. Set `PYTHONHASHSEED` environment variable at a fixed value\n",
        "os.environ['PYTHONHASHSEED'] = str(seed_value)\n",
        "\n",
        "# 2. Set `python` built-in pseudo-random generator at a fixed value\n",
        "random.seed(seed_value)\n",
        "\n",
        "# 3. Set `numpy` pseudo-random generator at a fixed value\n",
        "np.random.seed(seed_value)\n",
        "\n",
        "# 4. Set `tensorflow` pseudo-random generator at a fixed value\n",
        "tf.random.set_seed(seed_value)\n",
        "\n"
      ],
      "execution_count": 4,
      "outputs": [
        {
          "output_type": "stream",
          "text": [
            "/usr/local/lib/python3.6/dist-packages/statsmodels/tools/_testing.py:19: FutureWarning:\n",
            "\n",
            "pandas.util.testing is deprecated. Use the functions in the public API at pandas.testing instead.\n",
            "\n"
          ],
          "name": "stderr"
        }
      ]
    },
    {
      "cell_type": "markdown",
      "metadata": {
        "id": "qmJwcl8vDafB",
        "colab_type": "text"
      },
      "source": [
        "## Utility classes for data"
      ]
    },
    {
      "cell_type": "code",
      "metadata": {
        "id": "QUaOnxFvi9Dn",
        "colab_type": "code",
        "colab": {}
      },
      "source": [
        "class Image:\n",
        "    \"\"\"\n",
        "      This class will be used for mantaining informations about an image\n",
        "    \"\"\"\n",
        "\n",
        "    def __init__(self, category_name):\n",
        "\n",
        "        # Name of person\n",
        "        self.category_name = category_name\n",
        "\n",
        "        # A list with images of the person\n",
        "        self.category_images = []\n",
        "\n",
        "    def getCategoryName(self):\n",
        "        return self.category_name\n",
        "\n",
        "    def getCategoryImages(self):\n",
        "        return self.category_images\n",
        "\n",
        "    def addImage(self, image):\n",
        "        \"\"\"\n",
        "          This function is used for adding an image with person to his/her list\n",
        "\n",
        "          Arguments:\n",
        "            image: the image we want to add (numpy array)\n",
        "        \"\"\"\n",
        "        self.category_images.append(image)\n",
        "\n",
        "\n",
        "def testImageClass():\n",
        "    \"\"\"\n",
        "      This function is used for testing the Image class\n",
        "    \"\"\"\n",
        "    img = Image(\"Highway\")\n",
        "\n",
        "    assert img.getCategoryName() == \"Highway\"\n",
        "    assert img.getCategoryName() != \"awd\"\n",
        "    assert len(img.getCategoryImages()) == 0\n",
        "\n",
        "    img.addImage(3)\n",
        "    assert len(img.getCategoryImages()) == 1\n",
        "\n",
        "\n",
        "testImageClass()\n",
        "\n",
        "\n",
        "class RepositoryImages:\n",
        "    \"\"\"\n",
        "      This class will be used for storing the images\n",
        "    \"\"\"\n",
        "\n",
        "    def __init__(self):\n",
        "\n",
        "        # A dictionary in this form {category: Image(category, category_images) }\n",
        "        self.images = {}\n",
        "\n",
        "    def getAllImages(self):\n",
        "        \"\"\"\n",
        "          This function is used for getting all images \n",
        "\n",
        "          Return:\n",
        "            A list with all images from dict that contains Image objects\n",
        "        \"\"\"\n",
        "        return list(self.images.values())\n",
        "\n",
        "    def find(self, category):\n",
        "        \"\"\"\n",
        "          This function is used for getting the images of a category\n",
        "\n",
        "          Arguments:\n",
        "            category: a string which represents the name of the category that we want to find\n",
        "\n",
        "          Return:\n",
        "            A object Image\n",
        "        \"\"\"\n",
        "        return self.images[category]\n",
        "\n",
        "    def read(self, path_to_dataset):\n",
        "        \"\"\"\n",
        "          This function is used for reading the images from directories\n",
        "\n",
        "          Arguments:\n",
        "            path_to_dataset: the path where the images are stored\n",
        "        \"\"\"\n",
        "        directories = os.listdir(path_to_dataset)\n",
        "\n",
        "        self.images = {}\n",
        "        print(\"Total directories: \" + str(len(directories)))\n",
        "\n",
        "        # Iterate thorugh directories of path_to_dataset directory\n",
        "        for directory in directories:\n",
        "\n",
        "            # Get the name of each directory\n",
        "            name_of_images = os.listdir(path_to_dataset + directory)\n",
        "            print(\"Current directory: \" + directory +\n",
        "                  \" \" + str(len(name_of_images)))\n",
        "\n",
        "            # Iterate through images\n",
        "            for name_of_image in name_of_images:\n",
        "\n",
        "                # If the image is already in dictionary\n",
        "                if directory in self.images.keys():\n",
        "\n",
        "                    # Read the image\n",
        "                    image = cv2.imread(path_to_dataset +\n",
        "                                       directory + \"/\" + name_of_image)\n",
        "\n",
        "                    # Add new image\n",
        "                    self.images[directory].addImage(image)\n",
        "\n",
        "                else:\n",
        "                    # Read the image\n",
        "                    image = Image(directory)\n",
        "                    image.addImage(cv2.imread(path_to_dataset +\n",
        "                                              directory + \"/\" + name_of_image))\n",
        "                    self.images[directory] = image\n",
        "\n",
        "\n",
        "def testRepository():\n",
        "    assert len(repo.getAllImages()) == 10"
      ],
      "execution_count": 5,
      "outputs": []
    },
    {
      "cell_type": "markdown",
      "metadata": {
        "id": "JSW20eSODkib",
        "colab_type": "text"
      },
      "source": [
        "Check if it was unzipped properly"
      ]
    },
    {
      "cell_type": "code",
      "metadata": {
        "id": "nXuZdwWujrS0",
        "colab_type": "code",
        "colab": {
          "base_uri": "https://localhost:8080/",
          "height": 35
        },
        "outputId": "e0de04a2-f158-4a33-8841-1f425d7d37db"
      },
      "source": [
        "!ls"
      ],
      "execution_count": 6,
      "outputs": [
        {
          "output_type": "stream",
          "text": [
            "2750  gdrive  sample_data\n"
          ],
          "name": "stdout"
        }
      ]
    },
    {
      "cell_type": "markdown",
      "metadata": {
        "id": "DAHPAz1jDuH3",
        "colab_type": "text"
      },
      "source": [
        "Point to the extracted images"
      ]
    },
    {
      "cell_type": "code",
      "metadata": {
        "id": "aT71y9kbjOW_",
        "colab_type": "code",
        "colab": {
          "base_uri": "https://localhost:8080/",
          "height": 215
        },
        "outputId": "66e13ab0-5290-468a-dd6f-6ffdcf5179a8"
      },
      "source": [
        "repository = RepositoryImages()\n",
        "repository.read('2750/')"
      ],
      "execution_count": 7,
      "outputs": [
        {
          "output_type": "stream",
          "text": [
            "Total directories: 10\n",
            "Current directory: Highway 2500\n",
            "Current directory: PermanentCrop 2500\n",
            "Current directory: SeaLake 3000\n",
            "Current directory: Residential 3000\n",
            "Current directory: Industrial 2500\n",
            "Current directory: AnnualCrop 3000\n",
            "Current directory: Forest 3000\n",
            "Current directory: Pasture 2000\n",
            "Current directory: River 2500\n",
            "Current directory: HerbaceousVegetation 3000\n"
          ],
          "name": "stdout"
        }
      ]
    },
    {
      "cell_type": "code",
      "metadata": {
        "id": "bvZVN0rzjZKy",
        "colab_type": "code",
        "colab": {}
      },
      "source": [
        "class Service:\n",
        "    \"\"\"\n",
        "      This class will be used for working with the while database of images\n",
        "    \"\"\"\n",
        "\n",
        "    def __init__(self, repo):\n",
        "        self.repo = repo\n",
        "\n",
        "    def getAllImages(self):\n",
        "        \"\"\"\n",
        "          This function is used for getting all images\n",
        "\n",
        "          Return:\n",
        "            A list with all images\n",
        "        \"\"\"\n",
        "        return self.repo.getAllImages()\n",
        "\n",
        "    def find(self, name_category):\n",
        "        \"\"\"\n",
        "          This function is used for getting the images of a category\n",
        "\n",
        "          Arguments:\n",
        "            name_category: a string which represents the name of the category that we want to find\n",
        "\n",
        "          Return:\n",
        "            A object Image\n",
        "        \"\"\"\n",
        "        return self.repo.find(name_category)\n",
        "\n",
        "    def make_flat(self, input_list):\n",
        "        \"\"\"\n",
        "          input_list: a list of lists\n",
        "        \"\"\"\n",
        "        flat_list = []\n",
        "        for sublist in input_list:\n",
        "            for item in sublist:\n",
        "                flat_list.append(item)\n",
        "        return flat_list\n",
        "\n",
        "    def displayImagesOfCategory(self, name_category):\n",
        "        \"\"\"\n",
        "          This function is used for displaying the images of a category\n",
        "\n",
        "          Arguments:\n",
        "            name_category: a string which represents the name of a category that we want to see his/her images\n",
        "        \"\"\"\n",
        "        # Define the dimensions of the plot grid\n",
        "        list_of_images = self.find(name_category).getCategoryImages()\n",
        "        dim = math.floor(math.sqrt(len(list_of_images[:100])))\n",
        "        W_grid = dim\n",
        "        L_grid = dim\n",
        "\n",
        "        # fig, axes = plt.subplots(L_grid, W_grid)\n",
        "        # subplot return the figure object and axes object\n",
        "        # we can use the axes object to plot specific figures at various locations\n",
        "\n",
        "        fig, axes = plt.subplots(L_grid, W_grid, figsize=(25, 25))\n",
        "\n",
        "        axes = axes.ravel()\n",
        "\n",
        "        index = 0\n",
        "        for i in np.arange(0, W_grid * L_grid):\n",
        "\n",
        "            # read and display an image with the selected index\n",
        "            axes[i].imshow(cv2.cvtColor(\n",
        "                np.uint8(list_of_images[index]), cv2.COLOR_BGR2RGB))\n",
        "            axes[i].set_title(name_category + \"_\" + str(i), fontsize=10)\n",
        "            index += 1\n",
        "            axes[i].axis('off')\n",
        "\n",
        "        plt.subplots_adjust(hspace=0.4)\n",
        "\n",
        "    def displayFrequencyHistogram(self):\n",
        "        \"\"\"\n",
        "          This function is used to show a histogram of image frequency for each category\n",
        "        \"\"\"\n",
        "\n",
        "        # Get all images\n",
        "        images = self.getAllImages()\n",
        "\n",
        "        frequency = []  # the number of images that corresponds to each category\n",
        "        categories = []  # the name of each category\n",
        "\n",
        "        # Iterate through images\n",
        "        for image in images:\n",
        "            frequency.append(len(image.getCategoryImages()))\n",
        "            categories.append(image.getCategoryName())\n",
        "\n",
        "        fig = go.Figure(data=[go.Bar(x=categories, y=frequency)])\n",
        "\n",
        "        fig.update_traces(marker_color='rgb(158,202,225)',\n",
        "                          marker_line_color='rgb(8,48,107)', marker_line_width=1.5, opacity=0.6)\n",
        "        fig.update_layout(title_text=\"Image frequency on each category\")\n",
        "\n",
        "        fig.show()\n",
        "\n",
        "    def get_data_frame_of_frequency(self):\n",
        "        \"\"\"\n",
        "          This function is used for getting the distribution of the dataset\n",
        "\n",
        "          Return:\n",
        "            A dataframe\n",
        "        \"\"\"\n",
        "        # The rows for dataframe\n",
        "        rows = []\n",
        "\n",
        "        # Get images\n",
        "        images = self.getAllImages()\n",
        "\n",
        "        frequency = []  # the number of images that corresponds to each category\n",
        "        categories = []  # the name of each category\n",
        "\n",
        "        # Iterate through images\n",
        "        for image in images:\n",
        "            frequency.append(len(image.getCategoryImages()))\n",
        "            categories.append(image.getCategoryName())\n",
        "\n",
        "        total_images = sum(frequency)\n",
        "\n",
        "        for i in range(len(categories)):\n",
        "            category = categories[i]\n",
        "            number_images_category = frequency[i]\n",
        "\n",
        "            percent = round((number_images_category * 100) / total_images, 2)\n",
        "\n",
        "            row = [category, number_images_category, percent, total_images]\n",
        "            rows.append(row)\n",
        "\n",
        "        df = pd.DataFrame(data=rows, columns=[\n",
        "                          \"Category\", \"Number of images\", \"Percent\", \"Total images\"])\n",
        "        return df\n",
        "\n",
        "\n",
        "service = Service(repository)"
      ],
      "execution_count": 10,
      "outputs": []
    },
    {
      "cell_type": "markdown",
      "metadata": {
        "id": "mGtZmW1TD2Co",
        "colab_type": "text"
      },
      "source": [
        "## **Model Training**\n",
        "\n",
        "### Load Dataset and split into train, test, validation\n",
        "### Use EfficientNetB2 as the base model. (SOTA in classification) https://ai.googleblog.com/2019/05/efficientnet-improving-accuracy-and.html"
      ]
    },
    {
      "cell_type": "code",
      "metadata": {
        "id": "AsW2pTrumcjl",
        "colab_type": "code",
        "colab": {
          "base_uri": "https://localhost:8080/",
          "height": 523
        },
        "outputId": "a2766f8e-afbc-4da2-d0ab-904395720084"
      },
      "source": [
        "percent_train = 0.8\n",
        "percent_val = 0.1\n",
        "percent_test = 0.1\n",
        "\n",
        "\n",
        "annualCrop_imgs = service.find(\"AnnualCrop\").getCategoryImages()\n",
        "forest_imgs = service.find(\"Forest\").getCategoryImages()\n",
        "herbaceousVegetation_imgs = service.find(\n",
        "    \"HerbaceousVegetation\").getCategoryImages()\n",
        "highway_imgs = service.find(\"Highway\").getCategoryImages()\n",
        "industrial_imgs = service.find(\"Industrial\").getCategoryImages()\n",
        "pasture_imgs = service.find(\"Pasture\").getCategoryImages()\n",
        "permanentCrop_imgs = service.find(\"PermanentCrop\").getCategoryImages()\n",
        "residential_imgs = service.find(\"Residential\").getCategoryImages()\n",
        "river_imgs = service.find(\"River\").getCategoryImages()\n",
        "sealake_imgs = service.find(\"SeaLake\").getCategoryImages()\n",
        "\n",
        "imgs = [annualCrop_imgs, forest_imgs, herbaceousVegetation_imgs, highway_imgs, industrial_imgs,\n",
        "        pasture_imgs, permanentCrop_imgs, residential_imgs, river_imgs, sealake_imgs]\n",
        "\n",
        "\n",
        "X_train = []\n",
        "y_train = []\n",
        "\n",
        "X_val = []\n",
        "y_val = []\n",
        "resolver = tf.distribute.cluster_resolver.TPUClusterResolver(tpu='grpc://' + os.environ['COLAB_TPU_ADDR'])\n",
        "tf.config.experimental_connect_to_cluster(resolver)\n",
        "# This is the TPU initialization code that has to be at the beginning.\n",
        "tf.tpu.experimental.initialize_tpu_system(resolver)\n",
        "print(\"All devices: \", tf.config.list_logical_devices('TPU'))\n",
        "X_test = []\n",
        "y_test = []\n",
        "\n",
        "i = 0\n",
        "for set_imgs in imgs:\n",
        "    train_index = int(len(set_imgs) * percent_train)\n",
        "    val_index = int(len(set_imgs) * (percent_train + percent_val))\n",
        "    test_index = int(len(set_imgs) * (percent_train +\n",
        "                                      percent_val + percent_test))\n",
        "\n",
        "    X_train += set_imgs[:train_index]\n",
        "    X_val += set_imgs[train_index + 1: val_index]\n",
        "    X_test += set_imgs[val_index + 1: test_index]\n",
        "\n",
        "    y_train += [i for k in range(len(set_imgs[:train_index]))]\n",
        "    y_val += [i for k in range(len(set_imgs[train_index + 1: val_index]))]\n",
        "    y_test += [i for k in range(len(set_imgs[val_index + 1: test_index]))]\n",
        "\n",
        "    i += 1\n",
        "\n",
        "X_train = np.asarray(X_train, dtype=\"float32\")\n",
        "y_train = np.asarray(y_train, dtype=\"float32\")\n",
        "\n",
        "X_val = np.asarray(X_val, dtype=\"float32\")\n",
        "y_val = np.asarray(y_val, dtype=\"float32\")\n",
        "\n",
        "X_test = np.asarray(X_test, dtype=\"float32\")\n",
        "y_test = np.asarray(y_test, dtype=\"float32\")\n",
        "\n",
        "efficient_net = EfficientNetB1(\n",
        "    weights=\"imagenet\", include_top=False, input_shape=(64, 64, 3))\n",
        "model = models.Sequential()\n",
        "model.add(efficient_net)\n",
        "model.add(tensorflow.keras.layers.Flatten())\n",
        "model.add(tensorflow.keras.layers.Dense(1024, activation=\"relu\"))\n",
        "model.add(tensorflow.keras.layers.Dropout(0.5))\n",
        "model.add(tensorflow.keras.layers.Dense(10, activation=\"softmax\"))\n",
        "model.summary()\n",
        "rms_prop = tensorflow.keras.optimizers.RMSprop(lr=1e-4)\n",
        "file_path = \"gdrive/My Drive/datasets/eff_net_weights.h5\"\n",
        "checkpoint = tensorflow.keras.callbacks.ModelCheckpoint(\n",
        "    file_path, monitor=\"val_accuracy\", verbose=1, save_best_only=True, mode=\"max\")\n",
        "callbacks = [checkpoint]\n",
        "model.compile(\n",
        "    optimizer=rms_prop,\n",
        "    loss=\"sparse_categorical_crossentropy\",\n",
        "    metrics=['accuracy']\n",
        ")"
      ],
      "execution_count": 15,
      "outputs": [
        {
          "output_type": "stream",
          "text": [
            "WARNING:tensorflow:TPU system grpc://10.120.182.66:8470 has already been initialized. Reinitializing the TPU can cause previously created variables on TPU to be lost.\n"
          ],
          "name": "stdout"
        },
        {
          "output_type": "stream",
          "text": [
            "WARNING:tensorflow:TPU system grpc://10.120.182.66:8470 has already been initialized. Reinitializing the TPU can cause previously created variables on TPU to be lost.\n"
          ],
          "name": "stderr"
        },
        {
          "output_type": "stream",
          "text": [
            "INFO:tensorflow:Initializing the TPU system: grpc://10.120.182.66:8470\n"
          ],
          "name": "stdout"
        },
        {
          "output_type": "stream",
          "text": [
            "INFO:tensorflow:Initializing the TPU system: grpc://10.120.182.66:8470\n"
          ],
          "name": "stderr"
        },
        {
          "output_type": "stream",
          "text": [
            "INFO:tensorflow:Clearing out eager caches\n"
          ],
          "name": "stdout"
        },
        {
          "output_type": "stream",
          "text": [
            "INFO:tensorflow:Clearing out eager caches\n"
          ],
          "name": "stderr"
        },
        {
          "output_type": "stream",
          "text": [
            "INFO:tensorflow:Finished initializing TPU system.\n"
          ],
          "name": "stdout"
        },
        {
          "output_type": "stream",
          "text": [
            "INFO:tensorflow:Finished initializing TPU system.\n"
          ],
          "name": "stderr"
        },
        {
          "output_type": "stream",
          "text": [
            "All devices:  [LogicalDevice(name='/job:worker/replica:0/task:0/device:TPU:7', device_type='TPU'), LogicalDevice(name='/job:worker/replica:0/task:0/device:TPU:6', device_type='TPU'), LogicalDevice(name='/job:worker/replica:0/task:0/device:TPU:5', device_type='TPU'), LogicalDevice(name='/job:worker/replica:0/task:0/device:TPU:4', device_type='TPU'), LogicalDevice(name='/job:worker/replica:0/task:0/device:TPU:0', device_type='TPU'), LogicalDevice(name='/job:worker/replica:0/task:0/device:TPU:1', device_type='TPU'), LogicalDevice(name='/job:worker/replica:0/task:0/device:TPU:2', device_type='TPU'), LogicalDevice(name='/job:worker/replica:0/task:0/device:TPU:3', device_type='TPU')]\n",
            "Model: \"sequential_2\"\n",
            "_________________________________________________________________\n",
            "Layer (type)                 Output Shape              Param #   \n",
            "=================================================================\n",
            "efficientnetb1 (Functional)  (None, 2, 2, 1280)        6575239   \n",
            "_________________________________________________________________\n",
            "flatten_2 (Flatten)          (None, 5120)              0         \n",
            "_________________________________________________________________\n",
            "dense_4 (Dense)              (None, 1024)              5243904   \n",
            "_________________________________________________________________\n",
            "dropout_2 (Dropout)          (None, 1024)              0         \n",
            "_________________________________________________________________\n",
            "dense_5 (Dense)              (None, 10)                10250     \n",
            "=================================================================\n",
            "Total params: 11,829,393\n",
            "Trainable params: 11,767,338\n",
            "Non-trainable params: 62,055\n",
            "_________________________________________________________________\n"
          ],
          "name": "stdout"
        }
      ]
    },
    {
      "cell_type": "markdown",
      "metadata": {
        "id": "5wTyGnm_EZ4v",
        "colab_type": "text"
      },
      "source": [
        "### Train model until overfitting.\n",
        "We could use **EarlyStopping** callback but I didn't want to let the model train for a very long time"
      ]
    },
    {
      "cell_type": "code",
      "metadata": {
        "id": "S0BPO9WWmi2w",
        "colab_type": "code",
        "colab": {
          "base_uri": "https://localhost:8080/",
          "height": 253
        },
        "outputId": "4fa3b97d-58fa-4762-f9aa-493a7f4e539d"
      },
      "source": [
        "history = model.fit(\n",
        "    x=X_train,\n",
        "    y=y_train,\n",
        "    validation_data=(X_val, y_val),\n",
        "    batch_size=128,\n",
        "    verbose=1,\n",
        "    epochs=2,\n",
        "    callbacks=callbacks\n",
        ")"
      ],
      "execution_count": 16,
      "outputs": [
        {
          "output_type": "stream",
          "text": [
            "Epoch 1/2\n",
            "  2/169 [..............................] - ETA: 6:02 - loss: 2.9490 - accuracy: 0.1406 WARNING:tensorflow:Callbacks method `on_train_batch_end` is slow compared to the batch time (batch time: 0.0029s vs `on_train_batch_end` time: 0.6692s). Check your callbacks.\n"
          ],
          "name": "stdout"
        },
        {
          "output_type": "stream",
          "text": [
            "WARNING:tensorflow:Callbacks method `on_train_batch_end` is slow compared to the batch time (batch time: 0.0029s vs `on_train_batch_end` time: 0.6692s). Check your callbacks.\n"
          ],
          "name": "stderr"
        },
        {
          "output_type": "stream",
          "text": [
            "169/169 [==============================] - ETA: 0s - loss: 0.7138 - accuracy: 0.7735WARNING:tensorflow:Callbacks method `on_test_batch_end` is slow compared to the batch time (batch time: 0.0019s vs `on_test_batch_end` time: 0.1222s). Check your callbacks.\n"
          ],
          "name": "stdout"
        },
        {
          "output_type": "stream",
          "text": [
            "WARNING:tensorflow:Callbacks method `on_test_batch_end` is slow compared to the batch time (batch time: 0.0019s vs `on_test_batch_end` time: 0.1222s). Check your callbacks.\n"
          ],
          "name": "stderr"
        },
        {
          "output_type": "stream",
          "text": [
            "\n",
            "Epoch 00001: val_accuracy improved from -inf to 0.81896, saving model to gdrive/My Drive/datasets/eff_net_weights.h5\n",
            "169/169 [==============================] - 109s 642ms/step - loss: 0.7138 - accuracy: 0.7735 - val_loss: 0.6312 - val_accuracy: 0.8190\n",
            "Epoch 2/2\n",
            "169/169 [==============================] - ETA: 0s - loss: 0.2403 - accuracy: 0.9251\n",
            "Epoch 00002: val_accuracy improved from 0.81896 to 0.93383, saving model to gdrive/My Drive/datasets/eff_net_weights.h5\n",
            "169/169 [==============================] - 102s 602ms/step - loss: 0.2403 - accuracy: 0.9251 - val_loss: 0.2115 - val_accuracy: 0.9338\n"
          ],
          "name": "stdout"
        }
      ]
    },
    {
      "cell_type": "code",
      "metadata": {
        "id": "V772MqV_mnnn",
        "colab_type": "code",
        "colab": {
          "base_uri": "https://localhost:8080/",
          "height": 469
        },
        "outputId": "e807478b-1f43-4af6-934d-708018ac6f8a"
      },
      "source": [
        "history2 = model.fit(\n",
        "    x=X_train,\n",
        "    y=y_train,\n",
        "    validation_data=(X_val, y_val),\n",
        "    batch_size=128,\n",
        "    verbose=1,\n",
        "    epochs=5,\n",
        "    callbacks=callbacks\n",
        ")"
      ],
      "execution_count": 18,
      "outputs": [
        {
          "output_type": "stream",
          "text": [
            "Epoch 1/5\n",
            "  2/169 [..............................] - ETA: 2:02 - loss: 0.1000 - accuracy: 0.9570WARNING:tensorflow:Callbacks method `on_train_batch_end` is slow compared to the batch time (batch time: 0.0038s vs `on_train_batch_end` time: 0.6774s). Check your callbacks.\n"
          ],
          "name": "stdout"
        },
        {
          "output_type": "stream",
          "text": [
            "WARNING:tensorflow:Callbacks method `on_train_batch_end` is slow compared to the batch time (batch time: 0.0038s vs `on_train_batch_end` time: 0.6774s). Check your callbacks.\n"
          ],
          "name": "stderr"
        },
        {
          "output_type": "stream",
          "text": [
            "169/169 [==============================] - ETA: 0s - loss: 0.1282 - accuracy: 0.9577WARNING:tensorflow:Callbacks method `on_test_batch_end` is slow compared to the batch time (batch time: 0.0016s vs `on_test_batch_end` time: 0.1198s). Check your callbacks.\n"
          ],
          "name": "stdout"
        },
        {
          "output_type": "stream",
          "text": [
            "WARNING:tensorflow:Callbacks method `on_test_batch_end` is slow compared to the batch time (batch time: 0.0016s vs `on_test_batch_end` time: 0.1198s). Check your callbacks.\n"
          ],
          "name": "stderr"
        },
        {
          "output_type": "stream",
          "text": [
            "\n",
            "Epoch 00001: val_accuracy improved from 0.93383 to 0.95836, saving model to gdrive/My Drive/datasets/eff_net_weights.h5\n",
            "169/169 [==============================] - 104s 617ms/step - loss: 0.1282 - accuracy: 0.9577 - val_loss: 0.1385 - val_accuracy: 0.9584\n",
            "Epoch 2/5\n",
            "169/169 [==============================] - ETA: 0s - loss: 0.0747 - accuracy: 0.9764\n",
            "Epoch 00002: val_accuracy improved from 0.95836 to 0.95948, saving model to gdrive/My Drive/datasets/eff_net_weights.h5\n",
            "169/169 [==============================] - 102s 606ms/step - loss: 0.0747 - accuracy: 0.9764 - val_loss: 0.1381 - val_accuracy: 0.9595\n",
            "Epoch 3/5\n",
            "169/169 [==============================] - ETA: 0s - loss: 0.0704 - accuracy: 0.9779\n",
            "Epoch 00003: val_accuracy improved from 0.95948 to 0.96617, saving model to gdrive/My Drive/datasets/eff_net_weights.h5\n",
            "169/169 [==============================] - 102s 604ms/step - loss: 0.0704 - accuracy: 0.9779 - val_loss: 0.1217 - val_accuracy: 0.9662\n",
            "Epoch 4/5\n",
            "169/169 [==============================] - ETA: 0s - loss: 0.0508 - accuracy: 0.9838\n",
            "Epoch 00004: val_accuracy improved from 0.96617 to 0.96654, saving model to gdrive/My Drive/datasets/eff_net_weights.h5\n",
            "169/169 [==============================] - 103s 608ms/step - loss: 0.0508 - accuracy: 0.9838 - val_loss: 0.1399 - val_accuracy: 0.9665\n",
            "Epoch 5/5\n",
            "169/169 [==============================] - ETA: 0s - loss: 0.0453 - accuracy: 0.9860\n",
            "Epoch 00005: val_accuracy improved from 0.96654 to 0.97138, saving model to gdrive/My Drive/datasets/eff_net_weights.h5\n",
            "169/169 [==============================] - 102s 605ms/step - loss: 0.0453 - accuracy: 0.9860 - val_loss: 0.1137 - val_accuracy: 0.9714\n"
          ],
          "name": "stdout"
        }
      ]
    },
    {
      "cell_type": "code",
      "metadata": {
        "id": "1henBVdu_9Fg",
        "colab_type": "code",
        "colab": {
          "base_uri": "https://localhost:8080/",
          "height": 469
        },
        "outputId": "71a7bee1-806b-4c0e-ba75-dbdde5d34320"
      },
      "source": [
        "history3 = model.fit(\n",
        "    x=X_train,\n",
        "    y=y_train,\n",
        "    validation_data=(X_val, y_val),\n",
        "    batch_size=128,\n",
        "    verbose=1,\n",
        "    epochs=5,\n",
        "    callbacks=callbacks\n",
        ")"
      ],
      "execution_count": 34,
      "outputs": [
        {
          "output_type": "stream",
          "text": [
            "Epoch 1/5\n",
            "  2/169 [..............................] - ETA: 2:03 - loss: 0.0583 - accuracy: 0.9883WARNING:tensorflow:Callbacks method `on_train_batch_end` is slow compared to the batch time (batch time: 0.0031s vs `on_train_batch_end` time: 0.6696s). Check your callbacks.\n"
          ],
          "name": "stdout"
        },
        {
          "output_type": "stream",
          "text": [
            "WARNING:tensorflow:Callbacks method `on_train_batch_end` is slow compared to the batch time (batch time: 0.0031s vs `on_train_batch_end` time: 0.6696s). Check your callbacks.\n"
          ],
          "name": "stderr"
        },
        {
          "output_type": "stream",
          "text": [
            "169/169 [==============================] - ETA: 0s - loss: 0.0243 - accuracy: 0.9929WARNING:tensorflow:Callbacks method `on_test_batch_end` is slow compared to the batch time (batch time: 0.0018s vs `on_test_batch_end` time: 0.1175s). Check your callbacks.\n"
          ],
          "name": "stdout"
        },
        {
          "output_type": "stream",
          "text": [
            "WARNING:tensorflow:Callbacks method `on_test_batch_end` is slow compared to the batch time (batch time: 0.0018s vs `on_test_batch_end` time: 0.1175s). Check your callbacks.\n"
          ],
          "name": "stderr"
        },
        {
          "output_type": "stream",
          "text": [
            "\n",
            "Epoch 00001: val_accuracy improved from 0.97138 to 0.97398, saving model to gdrive/My Drive/datasets/eff_net_weights.h5\n",
            "169/169 [==============================] - 103s 608ms/step - loss: 0.0243 - accuracy: 0.9929 - val_loss: 0.1233 - val_accuracy: 0.9740\n",
            "Epoch 2/5\n",
            "169/169 [==============================] - ETA: 0s - loss: 0.0189 - accuracy: 0.9934\n",
            "Epoch 00002: val_accuracy improved from 0.97398 to 0.97509, saving model to gdrive/My Drive/datasets/eff_net_weights.h5\n",
            "169/169 [==============================] - 103s 611ms/step - loss: 0.0189 - accuracy: 0.9934 - val_loss: 0.1299 - val_accuracy: 0.9751\n",
            "Epoch 3/5\n",
            "169/169 [==============================] - ETA: 0s - loss: 0.0228 - accuracy: 0.9932\n",
            "Epoch 00003: val_accuracy did not improve from 0.97509\n",
            "169/169 [==============================] - 99s 586ms/step - loss: 0.0228 - accuracy: 0.9932 - val_loss: 0.1280 - val_accuracy: 0.9747\n",
            "Epoch 4/5\n",
            "169/169 [==============================] - ETA: 0s - loss: 0.0197 - accuracy: 0.9940\n",
            "Epoch 00004: val_accuracy improved from 0.97509 to 0.97621, saving model to gdrive/My Drive/datasets/eff_net_weights.h5\n",
            "169/169 [==============================] - 101s 600ms/step - loss: 0.0197 - accuracy: 0.9940 - val_loss: 0.1160 - val_accuracy: 0.9762\n",
            "Epoch 5/5\n",
            "169/169 [==============================] - ETA: 0s - loss: 0.0146 - accuracy: 0.9958\n",
            "Epoch 00005: val_accuracy did not improve from 0.97621\n",
            "169/169 [==============================] - 100s 593ms/step - loss: 0.0146 - accuracy: 0.9958 - val_loss: 0.1367 - val_accuracy: 0.9743\n"
          ],
          "name": "stdout"
        }
      ]
    },
    {
      "cell_type": "markdown",
      "metadata": {
        "id": "jNF5ujaHE23O",
        "colab_type": "text"
      },
      "source": [
        "## Accuracy graphs. 3 graphs because we trained the model in 3 iterations"
      ]
    },
    {
      "cell_type": "code",
      "metadata": {
        "id": "zS7fnS2px0A0",
        "colab_type": "code",
        "colab": {
          "base_uri": "https://localhost:8080/",
          "height": 542
        },
        "outputId": "6a6f755c-4983-45ef-99af-fb39d1e9dd51"
      },
      "source": [
        "x = np.arange(10)\n",
        "\n",
        "fig = go.Figure()\n",
        "\n",
        "fig.add_trace(go.Scatter(x=x, y= history.history['accuracy'], name=\"Train\"))\n",
        "fig.add_trace(go.Scatter(x=x, y= history.history['val_accuracy'], name=\"Validation\"))\n",
        "\n",
        "fig.show()"
      ],
      "execution_count": 20,
      "outputs": [
        {
          "output_type": "display_data",
          "data": {
            "text/html": [
              "<html>\n",
              "<head><meta charset=\"utf-8\" /></head>\n",
              "<body>\n",
              "    <div>\n",
              "            <script src=\"https://cdnjs.cloudflare.com/ajax/libs/mathjax/2.7.5/MathJax.js?config=TeX-AMS-MML_SVG\"></script><script type=\"text/javascript\">if (window.MathJax) {MathJax.Hub.Config({SVG: {font: \"STIX-Web\"}});}</script>\n",
              "                <script type=\"text/javascript\">window.PlotlyConfig = {MathJaxConfig: 'local'};</script>\n",
              "        <script src=\"https://cdn.plot.ly/plotly-latest.min.js\"></script>    \n",
              "            <div id=\"0cf6d10f-edf1-4f20-8d3f-0e587caba6f2\" class=\"plotly-graph-div\" style=\"height:525px; width:100%;\"></div>\n",
              "            <script type=\"text/javascript\">\n",
              "                \n",
              "                    window.PLOTLYENV=window.PLOTLYENV || {};\n",
              "                    \n",
              "                if (document.getElementById(\"0cf6d10f-edf1-4f20-8d3f-0e587caba6f2\")) {\n",
              "                    Plotly.newPlot(\n",
              "                        '0cf6d10f-edf1-4f20-8d3f-0e587caba6f2',\n",
              "                        [{\"name\": \"Train\", \"type\": \"scatter\", \"x\": [0, 1, 2, 3, 4, 5, 6, 7, 8, 9], \"y\": [0.7735185027122498, 0.9250925779342651]}, {\"name\": \"Validation\", \"type\": \"scatter\", \"x\": [0, 1, 2, 3, 4, 5, 6, 7, 8, 9], \"y\": [0.81895911693573, 0.9338290095329285]}],\n",
              "                        {\"template\": {\"data\": {\"bar\": [{\"error_x\": {\"color\": \"#2a3f5f\"}, \"error_y\": {\"color\": \"#2a3f5f\"}, \"marker\": {\"line\": {\"color\": \"#E5ECF6\", \"width\": 0.5}}, \"type\": \"bar\"}], \"barpolar\": [{\"marker\": {\"line\": {\"color\": \"#E5ECF6\", \"width\": 0.5}}, \"type\": \"barpolar\"}], \"carpet\": [{\"aaxis\": {\"endlinecolor\": \"#2a3f5f\", \"gridcolor\": \"white\", \"linecolor\": \"white\", \"minorgridcolor\": \"white\", \"startlinecolor\": \"#2a3f5f\"}, \"baxis\": {\"endlinecolor\": \"#2a3f5f\", \"gridcolor\": \"white\", \"linecolor\": \"white\", \"minorgridcolor\": \"white\", \"startlinecolor\": \"#2a3f5f\"}, \"type\": \"carpet\"}], \"choropleth\": [{\"colorbar\": {\"outlinewidth\": 0, \"ticks\": \"\"}, \"type\": \"choropleth\"}], \"contour\": [{\"colorbar\": {\"outlinewidth\": 0, \"ticks\": \"\"}, \"colorscale\": [[0.0, \"#0d0887\"], [0.1111111111111111, \"#46039f\"], [0.2222222222222222, \"#7201a8\"], [0.3333333333333333, \"#9c179e\"], [0.4444444444444444, \"#bd3786\"], [0.5555555555555556, \"#d8576b\"], [0.6666666666666666, \"#ed7953\"], [0.7777777777777778, \"#fb9f3a\"], [0.8888888888888888, \"#fdca26\"], [1.0, \"#f0f921\"]], \"type\": \"contour\"}], \"contourcarpet\": [{\"colorbar\": {\"outlinewidth\": 0, \"ticks\": \"\"}, \"type\": \"contourcarpet\"}], \"heatmap\": [{\"colorbar\": {\"outlinewidth\": 0, \"ticks\": \"\"}, \"colorscale\": [[0.0, \"#0d0887\"], [0.1111111111111111, \"#46039f\"], [0.2222222222222222, \"#7201a8\"], [0.3333333333333333, \"#9c179e\"], [0.4444444444444444, \"#bd3786\"], [0.5555555555555556, \"#d8576b\"], [0.6666666666666666, \"#ed7953\"], [0.7777777777777778, \"#fb9f3a\"], [0.8888888888888888, \"#fdca26\"], [1.0, \"#f0f921\"]], \"type\": \"heatmap\"}], \"heatmapgl\": [{\"colorbar\": {\"outlinewidth\": 0, \"ticks\": \"\"}, \"colorscale\": [[0.0, \"#0d0887\"], [0.1111111111111111, \"#46039f\"], [0.2222222222222222, \"#7201a8\"], [0.3333333333333333, \"#9c179e\"], [0.4444444444444444, \"#bd3786\"], [0.5555555555555556, \"#d8576b\"], [0.6666666666666666, \"#ed7953\"], [0.7777777777777778, \"#fb9f3a\"], [0.8888888888888888, \"#fdca26\"], [1.0, \"#f0f921\"]], \"type\": \"heatmapgl\"}], \"histogram\": [{\"marker\": {\"colorbar\": {\"outlinewidth\": 0, \"ticks\": \"\"}}, \"type\": \"histogram\"}], \"histogram2d\": [{\"colorbar\": {\"outlinewidth\": 0, \"ticks\": \"\"}, \"colorscale\": [[0.0, \"#0d0887\"], [0.1111111111111111, \"#46039f\"], [0.2222222222222222, \"#7201a8\"], [0.3333333333333333, \"#9c179e\"], [0.4444444444444444, \"#bd3786\"], [0.5555555555555556, \"#d8576b\"], [0.6666666666666666, \"#ed7953\"], [0.7777777777777778, \"#fb9f3a\"], [0.8888888888888888, \"#fdca26\"], [1.0, \"#f0f921\"]], \"type\": \"histogram2d\"}], \"histogram2dcontour\": [{\"colorbar\": {\"outlinewidth\": 0, \"ticks\": \"\"}, \"colorscale\": [[0.0, \"#0d0887\"], [0.1111111111111111, \"#46039f\"], [0.2222222222222222, \"#7201a8\"], [0.3333333333333333, \"#9c179e\"], [0.4444444444444444, \"#bd3786\"], [0.5555555555555556, \"#d8576b\"], [0.6666666666666666, \"#ed7953\"], [0.7777777777777778, \"#fb9f3a\"], [0.8888888888888888, \"#fdca26\"], [1.0, \"#f0f921\"]], \"type\": \"histogram2dcontour\"}], \"mesh3d\": [{\"colorbar\": {\"outlinewidth\": 0, \"ticks\": \"\"}, \"type\": \"mesh3d\"}], \"parcoords\": [{\"line\": {\"colorbar\": {\"outlinewidth\": 0, \"ticks\": \"\"}}, \"type\": \"parcoords\"}], \"pie\": [{\"automargin\": true, \"type\": \"pie\"}], \"scatter\": [{\"marker\": {\"colorbar\": {\"outlinewidth\": 0, \"ticks\": \"\"}}, \"type\": \"scatter\"}], \"scatter3d\": [{\"line\": {\"colorbar\": {\"outlinewidth\": 0, \"ticks\": \"\"}}, \"marker\": {\"colorbar\": {\"outlinewidth\": 0, \"ticks\": \"\"}}, \"type\": \"scatter3d\"}], \"scattercarpet\": [{\"marker\": {\"colorbar\": {\"outlinewidth\": 0, \"ticks\": \"\"}}, \"type\": \"scattercarpet\"}], \"scattergeo\": [{\"marker\": {\"colorbar\": {\"outlinewidth\": 0, \"ticks\": \"\"}}, \"type\": \"scattergeo\"}], \"scattergl\": [{\"marker\": {\"colorbar\": {\"outlinewidth\": 0, \"ticks\": \"\"}}, \"type\": \"scattergl\"}], \"scattermapbox\": [{\"marker\": {\"colorbar\": {\"outlinewidth\": 0, \"ticks\": \"\"}}, \"type\": \"scattermapbox\"}], \"scatterpolar\": [{\"marker\": {\"colorbar\": {\"outlinewidth\": 0, \"ticks\": \"\"}}, \"type\": \"scatterpolar\"}], \"scatterpolargl\": [{\"marker\": {\"colorbar\": {\"outlinewidth\": 0, \"ticks\": \"\"}}, \"type\": \"scatterpolargl\"}], \"scatterternary\": [{\"marker\": {\"colorbar\": {\"outlinewidth\": 0, \"ticks\": \"\"}}, \"type\": \"scatterternary\"}], \"surface\": [{\"colorbar\": {\"outlinewidth\": 0, \"ticks\": \"\"}, \"colorscale\": [[0.0, \"#0d0887\"], [0.1111111111111111, \"#46039f\"], [0.2222222222222222, \"#7201a8\"], [0.3333333333333333, \"#9c179e\"], [0.4444444444444444, \"#bd3786\"], [0.5555555555555556, \"#d8576b\"], [0.6666666666666666, \"#ed7953\"], [0.7777777777777778, \"#fb9f3a\"], [0.8888888888888888, \"#fdca26\"], [1.0, \"#f0f921\"]], \"type\": \"surface\"}], \"table\": [{\"cells\": {\"fill\": {\"color\": \"#EBF0F8\"}, \"line\": {\"color\": \"white\"}}, \"header\": {\"fill\": {\"color\": \"#C8D4E3\"}, \"line\": {\"color\": \"white\"}}, \"type\": \"table\"}]}, \"layout\": {\"annotationdefaults\": {\"arrowcolor\": \"#2a3f5f\", \"arrowhead\": 0, \"arrowwidth\": 1}, \"coloraxis\": {\"colorbar\": {\"outlinewidth\": 0, \"ticks\": \"\"}}, \"colorscale\": {\"diverging\": [[0, \"#8e0152\"], [0.1, \"#c51b7d\"], [0.2, \"#de77ae\"], [0.3, \"#f1b6da\"], [0.4, \"#fde0ef\"], [0.5, \"#f7f7f7\"], [0.6, \"#e6f5d0\"], [0.7, \"#b8e186\"], [0.8, \"#7fbc41\"], [0.9, \"#4d9221\"], [1, \"#276419\"]], \"sequential\": [[0.0, \"#0d0887\"], [0.1111111111111111, \"#46039f\"], [0.2222222222222222, \"#7201a8\"], [0.3333333333333333, \"#9c179e\"], [0.4444444444444444, \"#bd3786\"], [0.5555555555555556, \"#d8576b\"], [0.6666666666666666, \"#ed7953\"], [0.7777777777777778, \"#fb9f3a\"], [0.8888888888888888, \"#fdca26\"], [1.0, \"#f0f921\"]], \"sequentialminus\": [[0.0, \"#0d0887\"], [0.1111111111111111, \"#46039f\"], [0.2222222222222222, \"#7201a8\"], [0.3333333333333333, \"#9c179e\"], [0.4444444444444444, \"#bd3786\"], [0.5555555555555556, \"#d8576b\"], [0.6666666666666666, \"#ed7953\"], [0.7777777777777778, \"#fb9f3a\"], [0.8888888888888888, \"#fdca26\"], [1.0, \"#f0f921\"]]}, \"colorway\": [\"#636efa\", \"#EF553B\", \"#00cc96\", \"#ab63fa\", \"#FFA15A\", \"#19d3f3\", \"#FF6692\", \"#B6E880\", \"#FF97FF\", \"#FECB52\"], \"font\": {\"color\": \"#2a3f5f\"}, \"geo\": {\"bgcolor\": \"white\", \"lakecolor\": \"white\", \"landcolor\": \"#E5ECF6\", \"showlakes\": true, \"showland\": true, \"subunitcolor\": \"white\"}, \"hoverlabel\": {\"align\": \"left\"}, \"hovermode\": \"closest\", \"mapbox\": {\"style\": \"light\"}, \"paper_bgcolor\": \"white\", \"plot_bgcolor\": \"#E5ECF6\", \"polar\": {\"angularaxis\": {\"gridcolor\": \"white\", \"linecolor\": \"white\", \"ticks\": \"\"}, \"bgcolor\": \"#E5ECF6\", \"radialaxis\": {\"gridcolor\": \"white\", \"linecolor\": \"white\", \"ticks\": \"\"}}, \"scene\": {\"xaxis\": {\"backgroundcolor\": \"#E5ECF6\", \"gridcolor\": \"white\", \"gridwidth\": 2, \"linecolor\": \"white\", \"showbackground\": true, \"ticks\": \"\", \"zerolinecolor\": \"white\"}, \"yaxis\": {\"backgroundcolor\": \"#E5ECF6\", \"gridcolor\": \"white\", \"gridwidth\": 2, \"linecolor\": \"white\", \"showbackground\": true, \"ticks\": \"\", \"zerolinecolor\": \"white\"}, \"zaxis\": {\"backgroundcolor\": \"#E5ECF6\", \"gridcolor\": \"white\", \"gridwidth\": 2, \"linecolor\": \"white\", \"showbackground\": true, \"ticks\": \"\", \"zerolinecolor\": \"white\"}}, \"shapedefaults\": {\"line\": {\"color\": \"#2a3f5f\"}}, \"ternary\": {\"aaxis\": {\"gridcolor\": \"white\", \"linecolor\": \"white\", \"ticks\": \"\"}, \"baxis\": {\"gridcolor\": \"white\", \"linecolor\": \"white\", \"ticks\": \"\"}, \"bgcolor\": \"#E5ECF6\", \"caxis\": {\"gridcolor\": \"white\", \"linecolor\": \"white\", \"ticks\": \"\"}}, \"title\": {\"x\": 0.05}, \"xaxis\": {\"automargin\": true, \"gridcolor\": \"white\", \"linecolor\": \"white\", \"ticks\": \"\", \"title\": {\"standoff\": 15}, \"zerolinecolor\": \"white\", \"zerolinewidth\": 2}, \"yaxis\": {\"automargin\": true, \"gridcolor\": \"white\", \"linecolor\": \"white\", \"ticks\": \"\", \"title\": {\"standoff\": 15}, \"zerolinecolor\": \"white\", \"zerolinewidth\": 2}}}},\n",
              "                        {\"responsive\": true}\n",
              "                    ).then(function(){\n",
              "                            \n",
              "var gd = document.getElementById('0cf6d10f-edf1-4f20-8d3f-0e587caba6f2');\n",
              "var x = new MutationObserver(function (mutations, observer) {{\n",
              "        var display = window.getComputedStyle(gd).display;\n",
              "        if (!display || display === 'none') {{\n",
              "            console.log([gd, 'removed!']);\n",
              "            Plotly.purge(gd);\n",
              "            observer.disconnect();\n",
              "        }}\n",
              "}});\n",
              "\n",
              "// Listen for the removal of the full notebook cells\n",
              "var notebookContainer = gd.closest('#notebook-container');\n",
              "if (notebookContainer) {{\n",
              "    x.observe(notebookContainer, {childList: true});\n",
              "}}\n",
              "\n",
              "// Listen for the clearing of the current output cell\n",
              "var outputEl = gd.closest('.output');\n",
              "if (outputEl) {{\n",
              "    x.observe(outputEl, {childList: true});\n",
              "}}\n",
              "\n",
              "                        })\n",
              "                };\n",
              "                \n",
              "            </script>\n",
              "        </div>\n",
              "</body>\n",
              "</html>"
            ]
          },
          "metadata": {
            "tags": []
          }
        }
      ]
    },
    {
      "cell_type": "code",
      "metadata": {
        "id": "UyEKBiEOuwEH",
        "colab_type": "code",
        "colab": {
          "base_uri": "https://localhost:8080/",
          "height": 542
        },
        "outputId": "af74ab6b-c187-4bed-9859-0c2275a7e583"
      },
      "source": [
        "\n",
        "x = np.arange(10)\n",
        "\n",
        "fig = go.Figure()\n",
        "\n",
        "fig.add_trace(go.Scatter(x=x, y= history2.history['accuracy'], name=\"Train\"))\n",
        "fig.add_trace(go.Scatter(x=x, y= history2.history['val_accuracy'], name=\"Validation\"))\n",
        "\n",
        "fig.show()"
      ],
      "execution_count": 19,
      "outputs": [
        {
          "output_type": "display_data",
          "data": {
            "text/html": [
              "<html>\n",
              "<head><meta charset=\"utf-8\" /></head>\n",
              "<body>\n",
              "    <div>\n",
              "            <script src=\"https://cdnjs.cloudflare.com/ajax/libs/mathjax/2.7.5/MathJax.js?config=TeX-AMS-MML_SVG\"></script><script type=\"text/javascript\">if (window.MathJax) {MathJax.Hub.Config({SVG: {font: \"STIX-Web\"}});}</script>\n",
              "                <script type=\"text/javascript\">window.PlotlyConfig = {MathJaxConfig: 'local'};</script>\n",
              "        <script src=\"https://cdn.plot.ly/plotly-latest.min.js\"></script>    \n",
              "            <div id=\"153048ef-ab97-4454-86d4-e77c297a987d\" class=\"plotly-graph-div\" style=\"height:525px; width:100%;\"></div>\n",
              "            <script type=\"text/javascript\">\n",
              "                \n",
              "                    window.PLOTLYENV=window.PLOTLYENV || {};\n",
              "                    \n",
              "                if (document.getElementById(\"153048ef-ab97-4454-86d4-e77c297a987d\")) {\n",
              "                    Plotly.newPlot(\n",
              "                        '153048ef-ab97-4454-86d4-e77c297a987d',\n",
              "                        [{\"name\": \"Train\", \"type\": \"scatter\", \"x\": [0, 1, 2, 3, 4, 5, 6, 7, 8, 9], \"y\": [0.9576851725578308, 0.9764351844787598, 0.9778703451156616, 0.9838426113128662, 0.9860185384750366]}, {\"name\": \"Validation\", \"type\": \"scatter\", \"x\": [0, 1, 2, 3, 4, 5, 6, 7, 8, 9], \"y\": [0.9583643078804016, 0.959479570388794, 0.9661710262298584, 0.9665427803993225, 0.9713754653930664]}],\n",
              "                        {\"template\": {\"data\": {\"bar\": [{\"error_x\": {\"color\": \"#2a3f5f\"}, \"error_y\": {\"color\": \"#2a3f5f\"}, \"marker\": {\"line\": {\"color\": \"#E5ECF6\", \"width\": 0.5}}, \"type\": \"bar\"}], \"barpolar\": [{\"marker\": {\"line\": {\"color\": \"#E5ECF6\", \"width\": 0.5}}, \"type\": \"barpolar\"}], \"carpet\": [{\"aaxis\": {\"endlinecolor\": \"#2a3f5f\", \"gridcolor\": \"white\", \"linecolor\": \"white\", \"minorgridcolor\": \"white\", \"startlinecolor\": \"#2a3f5f\"}, \"baxis\": {\"endlinecolor\": \"#2a3f5f\", \"gridcolor\": \"white\", \"linecolor\": \"white\", \"minorgridcolor\": \"white\", \"startlinecolor\": \"#2a3f5f\"}, \"type\": \"carpet\"}], \"choropleth\": [{\"colorbar\": {\"outlinewidth\": 0, \"ticks\": \"\"}, \"type\": \"choropleth\"}], \"contour\": [{\"colorbar\": {\"outlinewidth\": 0, \"ticks\": \"\"}, \"colorscale\": [[0.0, \"#0d0887\"], [0.1111111111111111, \"#46039f\"], [0.2222222222222222, \"#7201a8\"], [0.3333333333333333, \"#9c179e\"], [0.4444444444444444, \"#bd3786\"], [0.5555555555555556, \"#d8576b\"], [0.6666666666666666, \"#ed7953\"], [0.7777777777777778, \"#fb9f3a\"], [0.8888888888888888, \"#fdca26\"], [1.0, \"#f0f921\"]], \"type\": \"contour\"}], \"contourcarpet\": [{\"colorbar\": {\"outlinewidth\": 0, \"ticks\": \"\"}, \"type\": \"contourcarpet\"}], \"heatmap\": [{\"colorbar\": {\"outlinewidth\": 0, \"ticks\": \"\"}, \"colorscale\": [[0.0, \"#0d0887\"], [0.1111111111111111, \"#46039f\"], [0.2222222222222222, \"#7201a8\"], [0.3333333333333333, \"#9c179e\"], [0.4444444444444444, \"#bd3786\"], [0.5555555555555556, \"#d8576b\"], [0.6666666666666666, \"#ed7953\"], [0.7777777777777778, \"#fb9f3a\"], [0.8888888888888888, \"#fdca26\"], [1.0, \"#f0f921\"]], \"type\": \"heatmap\"}], \"heatmapgl\": [{\"colorbar\": {\"outlinewidth\": 0, \"ticks\": \"\"}, \"colorscale\": [[0.0, \"#0d0887\"], [0.1111111111111111, \"#46039f\"], [0.2222222222222222, \"#7201a8\"], [0.3333333333333333, \"#9c179e\"], [0.4444444444444444, \"#bd3786\"], [0.5555555555555556, \"#d8576b\"], [0.6666666666666666, \"#ed7953\"], [0.7777777777777778, \"#fb9f3a\"], [0.8888888888888888, \"#fdca26\"], [1.0, \"#f0f921\"]], \"type\": \"heatmapgl\"}], \"histogram\": [{\"marker\": {\"colorbar\": {\"outlinewidth\": 0, \"ticks\": \"\"}}, \"type\": \"histogram\"}], \"histogram2d\": [{\"colorbar\": {\"outlinewidth\": 0, \"ticks\": \"\"}, \"colorscale\": [[0.0, \"#0d0887\"], [0.1111111111111111, \"#46039f\"], [0.2222222222222222, \"#7201a8\"], [0.3333333333333333, \"#9c179e\"], [0.4444444444444444, \"#bd3786\"], [0.5555555555555556, \"#d8576b\"], [0.6666666666666666, \"#ed7953\"], [0.7777777777777778, \"#fb9f3a\"], [0.8888888888888888, \"#fdca26\"], [1.0, \"#f0f921\"]], \"type\": \"histogram2d\"}], \"histogram2dcontour\": [{\"colorbar\": {\"outlinewidth\": 0, \"ticks\": \"\"}, \"colorscale\": [[0.0, \"#0d0887\"], [0.1111111111111111, \"#46039f\"], [0.2222222222222222, \"#7201a8\"], [0.3333333333333333, \"#9c179e\"], [0.4444444444444444, \"#bd3786\"], [0.5555555555555556, \"#d8576b\"], [0.6666666666666666, \"#ed7953\"], [0.7777777777777778, \"#fb9f3a\"], [0.8888888888888888, \"#fdca26\"], [1.0, \"#f0f921\"]], \"type\": \"histogram2dcontour\"}], \"mesh3d\": [{\"colorbar\": {\"outlinewidth\": 0, \"ticks\": \"\"}, \"type\": \"mesh3d\"}], \"parcoords\": [{\"line\": {\"colorbar\": {\"outlinewidth\": 0, \"ticks\": \"\"}}, \"type\": \"parcoords\"}], \"pie\": [{\"automargin\": true, \"type\": \"pie\"}], \"scatter\": [{\"marker\": {\"colorbar\": {\"outlinewidth\": 0, \"ticks\": \"\"}}, \"type\": \"scatter\"}], \"scatter3d\": [{\"line\": {\"colorbar\": {\"outlinewidth\": 0, \"ticks\": \"\"}}, \"marker\": {\"colorbar\": {\"outlinewidth\": 0, \"ticks\": \"\"}}, \"type\": \"scatter3d\"}], \"scattercarpet\": [{\"marker\": {\"colorbar\": {\"outlinewidth\": 0, \"ticks\": \"\"}}, \"type\": \"scattercarpet\"}], \"scattergeo\": [{\"marker\": {\"colorbar\": {\"outlinewidth\": 0, \"ticks\": \"\"}}, \"type\": \"scattergeo\"}], \"scattergl\": [{\"marker\": {\"colorbar\": {\"outlinewidth\": 0, \"ticks\": \"\"}}, \"type\": \"scattergl\"}], \"scattermapbox\": [{\"marker\": {\"colorbar\": {\"outlinewidth\": 0, \"ticks\": \"\"}}, \"type\": \"scattermapbox\"}], \"scatterpolar\": [{\"marker\": {\"colorbar\": {\"outlinewidth\": 0, \"ticks\": \"\"}}, \"type\": \"scatterpolar\"}], \"scatterpolargl\": [{\"marker\": {\"colorbar\": {\"outlinewidth\": 0, \"ticks\": \"\"}}, \"type\": \"scatterpolargl\"}], \"scatterternary\": [{\"marker\": {\"colorbar\": {\"outlinewidth\": 0, \"ticks\": \"\"}}, \"type\": \"scatterternary\"}], \"surface\": [{\"colorbar\": {\"outlinewidth\": 0, \"ticks\": \"\"}, \"colorscale\": [[0.0, \"#0d0887\"], [0.1111111111111111, \"#46039f\"], [0.2222222222222222, \"#7201a8\"], [0.3333333333333333, \"#9c179e\"], [0.4444444444444444, \"#bd3786\"], [0.5555555555555556, \"#d8576b\"], [0.6666666666666666, \"#ed7953\"], [0.7777777777777778, \"#fb9f3a\"], [0.8888888888888888, \"#fdca26\"], [1.0, \"#f0f921\"]], \"type\": \"surface\"}], \"table\": [{\"cells\": {\"fill\": {\"color\": \"#EBF0F8\"}, \"line\": {\"color\": \"white\"}}, \"header\": {\"fill\": {\"color\": \"#C8D4E3\"}, \"line\": {\"color\": \"white\"}}, \"type\": \"table\"}]}, \"layout\": {\"annotationdefaults\": {\"arrowcolor\": \"#2a3f5f\", \"arrowhead\": 0, \"arrowwidth\": 1}, \"coloraxis\": {\"colorbar\": {\"outlinewidth\": 0, \"ticks\": \"\"}}, \"colorscale\": {\"diverging\": [[0, \"#8e0152\"], [0.1, \"#c51b7d\"], [0.2, \"#de77ae\"], [0.3, \"#f1b6da\"], [0.4, \"#fde0ef\"], [0.5, \"#f7f7f7\"], [0.6, \"#e6f5d0\"], [0.7, \"#b8e186\"], [0.8, \"#7fbc41\"], [0.9, \"#4d9221\"], [1, \"#276419\"]], \"sequential\": [[0.0, \"#0d0887\"], [0.1111111111111111, \"#46039f\"], [0.2222222222222222, \"#7201a8\"], [0.3333333333333333, \"#9c179e\"], [0.4444444444444444, \"#bd3786\"], [0.5555555555555556, \"#d8576b\"], [0.6666666666666666, \"#ed7953\"], [0.7777777777777778, \"#fb9f3a\"], [0.8888888888888888, \"#fdca26\"], [1.0, \"#f0f921\"]], \"sequentialminus\": [[0.0, \"#0d0887\"], [0.1111111111111111, \"#46039f\"], [0.2222222222222222, \"#7201a8\"], [0.3333333333333333, \"#9c179e\"], [0.4444444444444444, \"#bd3786\"], [0.5555555555555556, \"#d8576b\"], [0.6666666666666666, \"#ed7953\"], [0.7777777777777778, \"#fb9f3a\"], [0.8888888888888888, \"#fdca26\"], [1.0, \"#f0f921\"]]}, \"colorway\": [\"#636efa\", \"#EF553B\", \"#00cc96\", \"#ab63fa\", \"#FFA15A\", \"#19d3f3\", \"#FF6692\", \"#B6E880\", \"#FF97FF\", \"#FECB52\"], \"font\": {\"color\": \"#2a3f5f\"}, \"geo\": {\"bgcolor\": \"white\", \"lakecolor\": \"white\", \"landcolor\": \"#E5ECF6\", \"showlakes\": true, \"showland\": true, \"subunitcolor\": \"white\"}, \"hoverlabel\": {\"align\": \"left\"}, \"hovermode\": \"closest\", \"mapbox\": {\"style\": \"light\"}, \"paper_bgcolor\": \"white\", \"plot_bgcolor\": \"#E5ECF6\", \"polar\": {\"angularaxis\": {\"gridcolor\": \"white\", \"linecolor\": \"white\", \"ticks\": \"\"}, \"bgcolor\": \"#E5ECF6\", \"radialaxis\": {\"gridcolor\": \"white\", \"linecolor\": \"white\", \"ticks\": \"\"}}, \"scene\": {\"xaxis\": {\"backgroundcolor\": \"#E5ECF6\", \"gridcolor\": \"white\", \"gridwidth\": 2, \"linecolor\": \"white\", \"showbackground\": true, \"ticks\": \"\", \"zerolinecolor\": \"white\"}, \"yaxis\": {\"backgroundcolor\": \"#E5ECF6\", \"gridcolor\": \"white\", \"gridwidth\": 2, \"linecolor\": \"white\", \"showbackground\": true, \"ticks\": \"\", \"zerolinecolor\": \"white\"}, \"zaxis\": {\"backgroundcolor\": \"#E5ECF6\", \"gridcolor\": \"white\", \"gridwidth\": 2, \"linecolor\": \"white\", \"showbackground\": true, \"ticks\": \"\", \"zerolinecolor\": \"white\"}}, \"shapedefaults\": {\"line\": {\"color\": \"#2a3f5f\"}}, \"ternary\": {\"aaxis\": {\"gridcolor\": \"white\", \"linecolor\": \"white\", \"ticks\": \"\"}, \"baxis\": {\"gridcolor\": \"white\", \"linecolor\": \"white\", \"ticks\": \"\"}, \"bgcolor\": \"#E5ECF6\", \"caxis\": {\"gridcolor\": \"white\", \"linecolor\": \"white\", \"ticks\": \"\"}}, \"title\": {\"x\": 0.05}, \"xaxis\": {\"automargin\": true, \"gridcolor\": \"white\", \"linecolor\": \"white\", \"ticks\": \"\", \"title\": {\"standoff\": 15}, \"zerolinecolor\": \"white\", \"zerolinewidth\": 2}, \"yaxis\": {\"automargin\": true, \"gridcolor\": \"white\", \"linecolor\": \"white\", \"ticks\": \"\", \"title\": {\"standoff\": 15}, \"zerolinecolor\": \"white\", \"zerolinewidth\": 2}}}},\n",
              "                        {\"responsive\": true}\n",
              "                    ).then(function(){\n",
              "                            \n",
              "var gd = document.getElementById('153048ef-ab97-4454-86d4-e77c297a987d');\n",
              "var x = new MutationObserver(function (mutations, observer) {{\n",
              "        var display = window.getComputedStyle(gd).display;\n",
              "        if (!display || display === 'none') {{\n",
              "            console.log([gd, 'removed!']);\n",
              "            Plotly.purge(gd);\n",
              "            observer.disconnect();\n",
              "        }}\n",
              "}});\n",
              "\n",
              "// Listen for the removal of the full notebook cells\n",
              "var notebookContainer = gd.closest('#notebook-container');\n",
              "if (notebookContainer) {{\n",
              "    x.observe(notebookContainer, {childList: true});\n",
              "}}\n",
              "\n",
              "// Listen for the clearing of the current output cell\n",
              "var outputEl = gd.closest('.output');\n",
              "if (outputEl) {{\n",
              "    x.observe(outputEl, {childList: true});\n",
              "}}\n",
              "\n",
              "                        })\n",
              "                };\n",
              "                \n",
              "            </script>\n",
              "        </div>\n",
              "</body>\n",
              "</html>"
            ]
          },
          "metadata": {
            "tags": []
          }
        }
      ]
    },
    {
      "cell_type": "code",
      "metadata": {
        "id": "vusjOozvxt8O",
        "colab_type": "code",
        "colab": {
          "base_uri": "https://localhost:8080/",
          "height": 542
        },
        "outputId": "2d59a56f-38e3-4433-e233-eccbd0148626"
      },
      "source": [
        "\n",
        "x = np.arange(10)\n",
        "\n",
        "fig = go.Figure()\n",
        "\n",
        "fig.add_trace(go.Scatter(x=x, y= history3.history['accuracy'], name=\"Train\"))\n",
        "fig.add_trace(go.Scatter(x=x, y= history3.history['val_accuracy'], name=\"Validation\"))\n",
        "\n",
        "fig.show()"
      ],
      "execution_count": 42,
      "outputs": [
        {
          "output_type": "display_data",
          "data": {
            "text/html": [
              "<html>\n",
              "<head><meta charset=\"utf-8\" /></head>\n",
              "<body>\n",
              "    <div>\n",
              "            <script src=\"https://cdnjs.cloudflare.com/ajax/libs/mathjax/2.7.5/MathJax.js?config=TeX-AMS-MML_SVG\"></script><script type=\"text/javascript\">if (window.MathJax) {MathJax.Hub.Config({SVG: {font: \"STIX-Web\"}});}</script>\n",
              "                <script type=\"text/javascript\">window.PlotlyConfig = {MathJaxConfig: 'local'};</script>\n",
              "        <script src=\"https://cdn.plot.ly/plotly-latest.min.js\"></script>    \n",
              "            <div id=\"3663e847-06f8-478f-a487-76255f6eddd3\" class=\"plotly-graph-div\" style=\"height:525px; width:100%;\"></div>\n",
              "            <script type=\"text/javascript\">\n",
              "                \n",
              "                    window.PLOTLYENV=window.PLOTLYENV || {};\n",
              "                    \n",
              "                if (document.getElementById(\"3663e847-06f8-478f-a487-76255f6eddd3\")) {\n",
              "                    Plotly.newPlot(\n",
              "                        '3663e847-06f8-478f-a487-76255f6eddd3',\n",
              "                        [{\"name\": \"Train\", \"type\": \"scatter\", \"x\": [0, 1, 2, 3, 4, 5, 6, 7, 8, 9], \"y\": [0.9928703904151917, 0.9934259057044983, 0.9931944608688354, 0.9940277934074402, 0.9957870244979858]}, {\"name\": \"Validation\", \"type\": \"scatter\", \"x\": [0, 1, 2, 3, 4, 5, 6, 7, 8, 9], \"y\": [0.9739776849746704, 0.9750929474830627, 0.9747211933135986, 0.9762081503868103, 0.9743494391441345]}],\n",
              "                        {\"template\": {\"data\": {\"bar\": [{\"error_x\": {\"color\": \"#2a3f5f\"}, \"error_y\": {\"color\": \"#2a3f5f\"}, \"marker\": {\"line\": {\"color\": \"#E5ECF6\", \"width\": 0.5}}, \"type\": \"bar\"}], \"barpolar\": [{\"marker\": {\"line\": {\"color\": \"#E5ECF6\", \"width\": 0.5}}, \"type\": \"barpolar\"}], \"carpet\": [{\"aaxis\": {\"endlinecolor\": \"#2a3f5f\", \"gridcolor\": \"white\", \"linecolor\": \"white\", \"minorgridcolor\": \"white\", \"startlinecolor\": \"#2a3f5f\"}, \"baxis\": {\"endlinecolor\": \"#2a3f5f\", \"gridcolor\": \"white\", \"linecolor\": \"white\", \"minorgridcolor\": \"white\", \"startlinecolor\": \"#2a3f5f\"}, \"type\": \"carpet\"}], \"choropleth\": [{\"colorbar\": {\"outlinewidth\": 0, \"ticks\": \"\"}, \"type\": \"choropleth\"}], \"contour\": [{\"colorbar\": {\"outlinewidth\": 0, \"ticks\": \"\"}, \"colorscale\": [[0.0, \"#0d0887\"], [0.1111111111111111, \"#46039f\"], [0.2222222222222222, \"#7201a8\"], [0.3333333333333333, \"#9c179e\"], [0.4444444444444444, \"#bd3786\"], [0.5555555555555556, \"#d8576b\"], [0.6666666666666666, \"#ed7953\"], [0.7777777777777778, \"#fb9f3a\"], [0.8888888888888888, \"#fdca26\"], [1.0, \"#f0f921\"]], \"type\": \"contour\"}], \"contourcarpet\": [{\"colorbar\": {\"outlinewidth\": 0, \"ticks\": \"\"}, \"type\": \"contourcarpet\"}], \"heatmap\": [{\"colorbar\": {\"outlinewidth\": 0, \"ticks\": \"\"}, \"colorscale\": [[0.0, \"#0d0887\"], [0.1111111111111111, \"#46039f\"], [0.2222222222222222, \"#7201a8\"], [0.3333333333333333, \"#9c179e\"], [0.4444444444444444, \"#bd3786\"], [0.5555555555555556, \"#d8576b\"], [0.6666666666666666, \"#ed7953\"], [0.7777777777777778, \"#fb9f3a\"], [0.8888888888888888, \"#fdca26\"], [1.0, \"#f0f921\"]], \"type\": \"heatmap\"}], \"heatmapgl\": [{\"colorbar\": {\"outlinewidth\": 0, \"ticks\": \"\"}, \"colorscale\": [[0.0, \"#0d0887\"], [0.1111111111111111, \"#46039f\"], [0.2222222222222222, \"#7201a8\"], [0.3333333333333333, \"#9c179e\"], [0.4444444444444444, \"#bd3786\"], [0.5555555555555556, \"#d8576b\"], [0.6666666666666666, \"#ed7953\"], [0.7777777777777778, \"#fb9f3a\"], [0.8888888888888888, \"#fdca26\"], [1.0, \"#f0f921\"]], \"type\": \"heatmapgl\"}], \"histogram\": [{\"marker\": {\"colorbar\": {\"outlinewidth\": 0, \"ticks\": \"\"}}, \"type\": \"histogram\"}], \"histogram2d\": [{\"colorbar\": {\"outlinewidth\": 0, \"ticks\": \"\"}, \"colorscale\": [[0.0, \"#0d0887\"], [0.1111111111111111, \"#46039f\"], [0.2222222222222222, \"#7201a8\"], [0.3333333333333333, \"#9c179e\"], [0.4444444444444444, \"#bd3786\"], [0.5555555555555556, \"#d8576b\"], [0.6666666666666666, \"#ed7953\"], [0.7777777777777778, \"#fb9f3a\"], [0.8888888888888888, \"#fdca26\"], [1.0, \"#f0f921\"]], \"type\": \"histogram2d\"}], \"histogram2dcontour\": [{\"colorbar\": {\"outlinewidth\": 0, \"ticks\": \"\"}, \"colorscale\": [[0.0, \"#0d0887\"], [0.1111111111111111, \"#46039f\"], [0.2222222222222222, \"#7201a8\"], [0.3333333333333333, \"#9c179e\"], [0.4444444444444444, \"#bd3786\"], [0.5555555555555556, \"#d8576b\"], [0.6666666666666666, \"#ed7953\"], [0.7777777777777778, \"#fb9f3a\"], [0.8888888888888888, \"#fdca26\"], [1.0, \"#f0f921\"]], \"type\": \"histogram2dcontour\"}], \"mesh3d\": [{\"colorbar\": {\"outlinewidth\": 0, \"ticks\": \"\"}, \"type\": \"mesh3d\"}], \"parcoords\": [{\"line\": {\"colorbar\": {\"outlinewidth\": 0, \"ticks\": \"\"}}, \"type\": \"parcoords\"}], \"pie\": [{\"automargin\": true, \"type\": \"pie\"}], \"scatter\": [{\"marker\": {\"colorbar\": {\"outlinewidth\": 0, \"ticks\": \"\"}}, \"type\": \"scatter\"}], \"scatter3d\": [{\"line\": {\"colorbar\": {\"outlinewidth\": 0, \"ticks\": \"\"}}, \"marker\": {\"colorbar\": {\"outlinewidth\": 0, \"ticks\": \"\"}}, \"type\": \"scatter3d\"}], \"scattercarpet\": [{\"marker\": {\"colorbar\": {\"outlinewidth\": 0, \"ticks\": \"\"}}, \"type\": \"scattercarpet\"}], \"scattergeo\": [{\"marker\": {\"colorbar\": {\"outlinewidth\": 0, \"ticks\": \"\"}}, \"type\": \"scattergeo\"}], \"scattergl\": [{\"marker\": {\"colorbar\": {\"outlinewidth\": 0, \"ticks\": \"\"}}, \"type\": \"scattergl\"}], \"scattermapbox\": [{\"marker\": {\"colorbar\": {\"outlinewidth\": 0, \"ticks\": \"\"}}, \"type\": \"scattermapbox\"}], \"scatterpolar\": [{\"marker\": {\"colorbar\": {\"outlinewidth\": 0, \"ticks\": \"\"}}, \"type\": \"scatterpolar\"}], \"scatterpolargl\": [{\"marker\": {\"colorbar\": {\"outlinewidth\": 0, \"ticks\": \"\"}}, \"type\": \"scatterpolargl\"}], \"scatterternary\": [{\"marker\": {\"colorbar\": {\"outlinewidth\": 0, \"ticks\": \"\"}}, \"type\": \"scatterternary\"}], \"surface\": [{\"colorbar\": {\"outlinewidth\": 0, \"ticks\": \"\"}, \"colorscale\": [[0.0, \"#0d0887\"], [0.1111111111111111, \"#46039f\"], [0.2222222222222222, \"#7201a8\"], [0.3333333333333333, \"#9c179e\"], [0.4444444444444444, \"#bd3786\"], [0.5555555555555556, \"#d8576b\"], [0.6666666666666666, \"#ed7953\"], [0.7777777777777778, \"#fb9f3a\"], [0.8888888888888888, \"#fdca26\"], [1.0, \"#f0f921\"]], \"type\": \"surface\"}], \"table\": [{\"cells\": {\"fill\": {\"color\": \"#EBF0F8\"}, \"line\": {\"color\": \"white\"}}, \"header\": {\"fill\": {\"color\": \"#C8D4E3\"}, \"line\": {\"color\": \"white\"}}, \"type\": \"table\"}]}, \"layout\": {\"annotationdefaults\": {\"arrowcolor\": \"#2a3f5f\", \"arrowhead\": 0, \"arrowwidth\": 1}, \"coloraxis\": {\"colorbar\": {\"outlinewidth\": 0, \"ticks\": \"\"}}, \"colorscale\": {\"diverging\": [[0, \"#8e0152\"], [0.1, \"#c51b7d\"], [0.2, \"#de77ae\"], [0.3, \"#f1b6da\"], [0.4, \"#fde0ef\"], [0.5, \"#f7f7f7\"], [0.6, \"#e6f5d0\"], [0.7, \"#b8e186\"], [0.8, \"#7fbc41\"], [0.9, \"#4d9221\"], [1, \"#276419\"]], \"sequential\": [[0.0, \"#0d0887\"], [0.1111111111111111, \"#46039f\"], [0.2222222222222222, \"#7201a8\"], [0.3333333333333333, \"#9c179e\"], [0.4444444444444444, \"#bd3786\"], [0.5555555555555556, \"#d8576b\"], [0.6666666666666666, \"#ed7953\"], [0.7777777777777778, \"#fb9f3a\"], [0.8888888888888888, \"#fdca26\"], [1.0, \"#f0f921\"]], \"sequentialminus\": [[0.0, \"#0d0887\"], [0.1111111111111111, \"#46039f\"], [0.2222222222222222, \"#7201a8\"], [0.3333333333333333, \"#9c179e\"], [0.4444444444444444, \"#bd3786\"], [0.5555555555555556, \"#d8576b\"], [0.6666666666666666, \"#ed7953\"], [0.7777777777777778, \"#fb9f3a\"], [0.8888888888888888, \"#fdca26\"], [1.0, \"#f0f921\"]]}, \"colorway\": [\"#636efa\", \"#EF553B\", \"#00cc96\", \"#ab63fa\", \"#FFA15A\", \"#19d3f3\", \"#FF6692\", \"#B6E880\", \"#FF97FF\", \"#FECB52\"], \"font\": {\"color\": \"#2a3f5f\"}, \"geo\": {\"bgcolor\": \"white\", \"lakecolor\": \"white\", \"landcolor\": \"#E5ECF6\", \"showlakes\": true, \"showland\": true, \"subunitcolor\": \"white\"}, \"hoverlabel\": {\"align\": \"left\"}, \"hovermode\": \"closest\", \"mapbox\": {\"style\": \"light\"}, \"paper_bgcolor\": \"white\", \"plot_bgcolor\": \"#E5ECF6\", \"polar\": {\"angularaxis\": {\"gridcolor\": \"white\", \"linecolor\": \"white\", \"ticks\": \"\"}, \"bgcolor\": \"#E5ECF6\", \"radialaxis\": {\"gridcolor\": \"white\", \"linecolor\": \"white\", \"ticks\": \"\"}}, \"scene\": {\"xaxis\": {\"backgroundcolor\": \"#E5ECF6\", \"gridcolor\": \"white\", \"gridwidth\": 2, \"linecolor\": \"white\", \"showbackground\": true, \"ticks\": \"\", \"zerolinecolor\": \"white\"}, \"yaxis\": {\"backgroundcolor\": \"#E5ECF6\", \"gridcolor\": \"white\", \"gridwidth\": 2, \"linecolor\": \"white\", \"showbackground\": true, \"ticks\": \"\", \"zerolinecolor\": \"white\"}, \"zaxis\": {\"backgroundcolor\": \"#E5ECF6\", \"gridcolor\": \"white\", \"gridwidth\": 2, \"linecolor\": \"white\", \"showbackground\": true, \"ticks\": \"\", \"zerolinecolor\": \"white\"}}, \"shapedefaults\": {\"line\": {\"color\": \"#2a3f5f\"}}, \"ternary\": {\"aaxis\": {\"gridcolor\": \"white\", \"linecolor\": \"white\", \"ticks\": \"\"}, \"baxis\": {\"gridcolor\": \"white\", \"linecolor\": \"white\", \"ticks\": \"\"}, \"bgcolor\": \"#E5ECF6\", \"caxis\": {\"gridcolor\": \"white\", \"linecolor\": \"white\", \"ticks\": \"\"}}, \"title\": {\"x\": 0.05}, \"xaxis\": {\"automargin\": true, \"gridcolor\": \"white\", \"linecolor\": \"white\", \"ticks\": \"\", \"title\": {\"standoff\": 15}, \"zerolinecolor\": \"white\", \"zerolinewidth\": 2}, \"yaxis\": {\"automargin\": true, \"gridcolor\": \"white\", \"linecolor\": \"white\", \"ticks\": \"\", \"title\": {\"standoff\": 15}, \"zerolinecolor\": \"white\", \"zerolinewidth\": 2}}}},\n",
              "                        {\"responsive\": true}\n",
              "                    ).then(function(){\n",
              "                            \n",
              "var gd = document.getElementById('3663e847-06f8-478f-a487-76255f6eddd3');\n",
              "var x = new MutationObserver(function (mutations, observer) {{\n",
              "        var display = window.getComputedStyle(gd).display;\n",
              "        if (!display || display === 'none') {{\n",
              "            console.log([gd, 'removed!']);\n",
              "            Plotly.purge(gd);\n",
              "            observer.disconnect();\n",
              "        }}\n",
              "}});\n",
              "\n",
              "// Listen for the removal of the full notebook cells\n",
              "var notebookContainer = gd.closest('#notebook-container');\n",
              "if (notebookContainer) {{\n",
              "    x.observe(notebookContainer, {childList: true});\n",
              "}}\n",
              "\n",
              "// Listen for the clearing of the current output cell\n",
              "var outputEl = gd.closest('.output');\n",
              "if (outputEl) {{\n",
              "    x.observe(outputEl, {childList: true});\n",
              "}}\n",
              "\n",
              "                        })\n",
              "                };\n",
              "                \n",
              "            </script>\n",
              "        </div>\n",
              "</body>\n",
              "</html>"
            ]
          },
          "metadata": {
            "tags": []
          }
        }
      ]
    },
    {
      "cell_type": "markdown",
      "metadata": {
        "id": "hJujMwxHFFVA",
        "colab_type": "text"
      },
      "source": [
        "## Load the best model that is saved in drive"
      ]
    },
    {
      "cell_type": "code",
      "metadata": {
        "id": "gQlaXo0-yQq8",
        "colab_type": "code",
        "colab": {}
      },
      "source": [
        "model.load_weights(\"gdrive/My Drive/datasets/eff_net_weights.h5\")"
      ],
      "execution_count": 36,
      "outputs": []
    },
    {
      "cell_type": "code",
      "metadata": {
        "id": "LHMOckvpyYtO",
        "colab_type": "code",
        "colab": {
          "base_uri": "https://localhost:8080/",
          "height": 89
        },
        "outputId": "b0172aa6-3e74-4e72-9497-00c836a9d607"
      },
      "source": [
        "\n",
        "# Get the accuracy and loss on test set\n",
        "loss, acc = model.evaluate(X_test,  y_test,batch_size=128, verbose=2)\n",
        "print('Model, accuracy: {:5.2f}%'.format(100*acc))"
      ],
      "execution_count": 37,
      "outputs": [
        {
          "output_type": "stream",
          "text": [
            "WARNING:tensorflow:Callbacks method `on_test_batch_end` is slow compared to the batch time (batch time: 0.0019s vs `on_test_batch_end` time: 0.1288s). Check your callbacks.\n"
          ],
          "name": "stdout"
        },
        {
          "output_type": "stream",
          "text": [
            "WARNING:tensorflow:Callbacks method `on_test_batch_end` is slow compared to the batch time (batch time: 0.0019s vs `on_test_batch_end` time: 0.1288s). Check your callbacks.\n"
          ],
          "name": "stderr"
        },
        {
          "output_type": "stream",
          "text": [
            "22/22 - 3s - loss: 0.1582 - accuracy: 0.9714\n",
            "Model, accuracy: 97.14%\n"
          ],
          "name": "stdout"
        }
      ]
    },
    {
      "cell_type": "markdown",
      "metadata": {
        "id": "CQRT25FZFLcu",
        "colab_type": "text"
      },
      "source": [
        "We have the accuracy : 97.14%"
      ]
    },
    {
      "cell_type": "code",
      "metadata": {
        "id": "LF80TCAYyb92",
        "colab_type": "code",
        "colab": {
          "base_uri": "https://localhost:8080/",
          "height": 91
        },
        "outputId": "4f641b0c-ba0b-43d1-bb4c-d1ab1f492dc7"
      },
      "source": [
        "y_pred = model.predict(X_test,batch_size=128,verbose=1)\n"
      ],
      "execution_count": 38,
      "outputs": [
        {
          "output_type": "stream",
          "text": [
            " 2/22 [=>............................] - ETA: 1sWARNING:tensorflow:Callbacks method `on_predict_batch_end` is slow compared to the batch time (batch time: 0.0018s vs `on_predict_batch_end` time: 0.1274s). Check your callbacks.\n"
          ],
          "name": "stdout"
        },
        {
          "output_type": "stream",
          "text": [
            "WARNING:tensorflow:Callbacks method `on_predict_batch_end` is slow compared to the batch time (batch time: 0.0018s vs `on_predict_batch_end` time: 0.1274s). Check your callbacks.\n"
          ],
          "name": "stderr"
        },
        {
          "output_type": "stream",
          "text": [
            "22/22 [==============================] - 3s 115ms/step\n"
          ],
          "name": "stdout"
        }
      ]
    },
    {
      "cell_type": "code",
      "metadata": {
        "id": "KOZP5bYEzXRQ",
        "colab_type": "code",
        "colab": {}
      },
      "source": [
        "labels = [\"Annual Crop\", \"Forest\", \"HerbaceousVegetation\", \"Highway\", \"Industrial\", \"Pasture\", \"PermanentCrop\", \"Residential\", \"River\", \"SeaLake\"]"
      ],
      "execution_count": 39,
      "outputs": []
    },
    {
      "cell_type": "markdown",
      "metadata": {
        "id": "25746_pYFSgd",
        "colab_type": "text"
      },
      "source": [
        "## Confusion Matrix and Classification Report"
      ]
    },
    {
      "cell_type": "code",
      "metadata": {
        "id": "U77haAMDyhhS",
        "colab_type": "code",
        "colab": {
          "base_uri": "https://localhost:8080/",
          "height": 599
        },
        "outputId": "df568b38-40da-4291-98a8-acc9e2c0910e"
      },
      "source": [
        "\n",
        "# Get the confusion matrix\n",
        "conf_matrix = metrics.confusion_matrix(y_test, y_pred.argmax(axis = 1))\n",
        "\n",
        "# Plot the confusion matrix\n",
        "figure = plt.figure(figsize=(8, 8))\n",
        "sns.heatmap(conf_matrix, annot=True,cmap=plt.cm.Blues, fmt=\"d\", xticklabels = labels, yticklabels=labels)\n",
        "plt.tight_layout()\n",
        "plt.ylabel('True label')\n",
        "plt.xlabel('Predicted label')\n",
        "plt.show()"
      ],
      "execution_count": 40,
      "outputs": [
        {
          "output_type": "display_data",
          "data": {
            "image/png": "[encoded data removed]",
            "text/plain": [
              "<Figure size 576x576 with 2 Axes>"
            ]
          },
          "metadata": {
            "tags": [],
            "needs_background": "light"
          }
        }
      ]
    },
    {
      "cell_type": "code",
      "metadata": {
        "id": "UnzT8ph8ykHV",
        "colab_type": "code",
        "colab": {
          "base_uri": "https://localhost:8080/",
          "height": 323
        },
        "outputId": "2e430a34-f190-4209-b056-8bc9ad335439"
      },
      "source": [
        "# Print the classification Report\n",
        "class_names = ['AnnualCrop', 'Forest','HerbaceousVegetation', 'Highway', 'Industrial', 'Pasture', 'PermanentCrop', 'Residential', 'River', 'SeaLake']\n",
        "print(metrics.classification_report(y_test, y_pred.argmax(axis=1), target_names=class_names))"
      ],
      "execution_count": 41,
      "outputs": [
        {
          "output_type": "stream",
          "text": [
            "                      precision    recall  f1-score   support\n",
            "\n",
            "          AnnualCrop       0.96      0.96      0.96       299\n",
            "              Forest       0.99      0.99      0.99       299\n",
            "HerbaceousVegetation       0.95      0.97      0.96       299\n",
            "             Highway       0.98      0.95      0.96       249\n",
            "          Industrial       0.97      0.98      0.98       249\n",
            "             Pasture       0.96      0.96      0.96       199\n",
            "       PermanentCrop       0.95      0.93      0.94       249\n",
            "         Residential       0.99      0.98      0.98       299\n",
            "               River       0.98      0.97      0.98       249\n",
            "             SeaLake       0.99      1.00      0.99       299\n",
            "\n",
            "            accuracy                           0.97      2690\n",
            "           macro avg       0.97      0.97      0.97      2690\n",
            "        weighted avg       0.97      0.97      0.97      2690\n",
            "\n"
          ],
          "name": "stdout"
        }
      ]
    },
    {
      "cell_type": "code",
      "metadata": {
        "id": "WRylD_0UytyM",
        "colab_type": "code",
        "colab": {}
      },
      "source": [
        ""
      ],
      "execution_count": null,
      "outputs": []
    }
  ]
}